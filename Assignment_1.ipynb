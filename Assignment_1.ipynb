{
  "cells": [
    {
      "cell_type": "code",
      "execution_count": null,
      "metadata": {
        "colab": {
          "base_uri": "https://localhost:8080/"
        },
        "id": "XAmByMxbgnv0",
        "outputId": "14f8546a-b164-4d26-9514-f491c23eb4ec"
      },
      "outputs": [
        {
          "output_type": "stream",
          "name": "stdout",
          "text": [
            "Looking in indexes: https://pypi.org/simple, https://us-python.pkg.dev/colab-wheels/public/simple/\n",
            "Requirement already satisfied: libsvmdata in /usr/local/lib/python3.7/dist-packages (0.4.1)\n",
            "Requirement already satisfied: numpy>=1.12 in /usr/local/lib/python3.7/dist-packages (from libsvmdata) (1.21.6)\n",
            "Requirement already satisfied: download in /usr/local/lib/python3.7/dist-packages (from libsvmdata) (0.3.5)\n",
            "Requirement already satisfied: scipy in /usr/local/lib/python3.7/dist-packages (from libsvmdata) (1.7.3)\n",
            "Requirement already satisfied: scikit-learn in /usr/local/lib/python3.7/dist-packages (from libsvmdata) (1.0.2)\n",
            "Requirement already satisfied: six in /usr/local/lib/python3.7/dist-packages (from download->libsvmdata) (1.15.0)\n",
            "Requirement already satisfied: tqdm in /usr/local/lib/python3.7/dist-packages (from download->libsvmdata) (4.64.1)\n",
            "Requirement already satisfied: requests in /usr/local/lib/python3.7/dist-packages (from download->libsvmdata) (2.23.0)\n",
            "Requirement already satisfied: certifi>=2017.4.17 in /usr/local/lib/python3.7/dist-packages (from requests->download->libsvmdata) (2022.6.15)\n",
            "Requirement already satisfied: idna<3,>=2.5 in /usr/local/lib/python3.7/dist-packages (from requests->download->libsvmdata) (2.10)\n",
            "Requirement already satisfied: urllib3!=1.25.0,!=1.25.1,<1.26,>=1.21.1 in /usr/local/lib/python3.7/dist-packages (from requests->download->libsvmdata) (1.24.3)\n",
            "Requirement already satisfied: chardet<4,>=3.0.2 in /usr/local/lib/python3.7/dist-packages (from requests->download->libsvmdata) (3.0.4)\n",
            "Requirement already satisfied: joblib>=0.11 in /usr/local/lib/python3.7/dist-packages (from scikit-learn->libsvmdata) (1.1.0)\n",
            "Requirement already satisfied: threadpoolctl>=2.0.0 in /usr/local/lib/python3.7/dist-packages (from scikit-learn->libsvmdata) (3.1.0)\n"
          ]
        }
      ],
      "source": [
        "!pip install libsvmdata"
      ]
    },
    {
      "cell_type": "code",
      "execution_count": null,
      "metadata": {
        "id": "aWCcNZRG7Fmx"
      },
      "outputs": [],
      "source": [
        "import numpy as np\n",
        "import pandas as pd\n",
        "from libsvmdata import fetch_libsvm\n",
        "from random import randrange\n",
        "import matplotlib.pyplot as plt\n",
        "\n",
        "from sklearn.model_selection import train_test_split\n",
        "from sklearn.metrics import accuracy_score\n"
      ]
    },
    {
      "cell_type": "markdown",
      "metadata": {
        "id": "-EJQAiVcQG7M"
      },
      "source": [
        "#1 Import the data\n"
      ]
    },
    {
      "cell_type": "code",
      "execution_count": null,
      "metadata": {
        "colab": {
          "base_uri": "https://localhost:8080/"
        },
        "id": "K4PXFg8JGnso",
        "outputId": "f53edc2f-0054-4c33-ac78-3ba9a359b09e"
      },
      "outputs": [
        {
          "output_type": "execute_result",
          "data": {
            "text/plain": [
              "(768, 8)"
            ]
          },
          "metadata": {},
          "execution_count": 39
        }
      ],
      "source": [
        "# Get data from the library\n",
        "X,y = fetch_libsvm(\"diabetes_scale\")\n",
        "\n",
        "# Check the first 10 rows\n",
        "np.shape(X)"
      ]
    },
    {
      "cell_type": "markdown",
      "metadata": {
        "id": "Ldpagv3DQSKF"
      },
      "source": [
        "#2 Split the data into training and testing\n"
      ]
    },
    {
      "cell_type": "code",
      "execution_count": null,
      "metadata": {
        "id": "2bH3uZacpUYu"
      },
      "outputs": [],
      "source": [
        "# Split the data into training and testing\n",
        "X_train, X_test, y_train, y_test = train_test_split(X, y, test_size=0.20, random_state=42)\n",
        "\n",
        "# Reshape the y for later operation\n",
        "y_train = y_train.reshape(1, y_train.shape[0]).T\n",
        "y_test = y_test.reshape(1, y_test.shape[0]).T"
      ]
    },
    {
      "cell_type": "code",
      "execution_count": null,
      "metadata": {
        "colab": {
          "base_uri": "https://localhost:8080/"
        },
        "id": "qx43bHj5eXad",
        "outputId": "4acbfd10-1f38-4d04-f813-d4195079773c"
      },
      "outputs": [
        {
          "output_type": "stream",
          "name": "stdout",
          "text": [
            "(614, 8) (614, 1) (154, 8) (154, 1)\n"
          ]
        }
      ],
      "source": [
        "print(np.shape(X_train), np.shape(y_train), np.shape(X_test), np.shape(y_test))"
      ]
    },
    {
      "cell_type": "markdown",
      "metadata": {
        "id": "uuXKD0_vQaXV"
      },
      "source": [
        "#3 Define the perceptron model"
      ]
    },
    {
      "cell_type": "code",
      "execution_count": null,
      "metadata": {
        "id": "mjgkq0N7qoSs"
      },
      "outputs": [],
      "source": [
        "class Perceptron:\n",
        "  #constructor\n",
        "  def __init__ (self, w = None):\n",
        "    self.w = w\n",
        "\n",
        "  def loss_calc(self,prediction, expected):\n",
        "    return max(0, -expected*prediction)\n",
        "\n",
        "  def predict(self, X):\n",
        "    output = []\n",
        "    for x in X:\n",
        "      prediction = np.sign(np.dot(self.w, x))\n",
        "      output.append(prediction)\n",
        "    return output\n",
        "\n",
        "  def fit(self, X, Y, epochs = 1000, lr = 1):\n",
        "    N = Y.shape[0]\n",
        "    self.w = np.ones(X.shape[1])\n",
        "    accuracy = []\n",
        "    loss = []\n",
        "\n",
        "    for i in range(epochs):\n",
        "      sum_w = 0\n",
        "      sum_loss = 0\n",
        "      for x,y in zip(X, Y):\n",
        "        error = 1 if y*np.dot(self.w,x) < 0 else 0\n",
        "        sum_w += error*y*x\n",
        "        sum_loss += self.loss_calc(np.dot(self.w,x), y)\n",
        "      self.w = self.w + lr*sum_w\n",
        "      loss.append(sum_loss/N)\n",
        "      accuracy.append(accuracy_score(self.predict(X), Y))\n",
        "\n",
        "    return np.array(loss), accuracy "
      ]
    },
    {
      "cell_type": "markdown",
      "metadata": {
        "id": "9ngbrBjTTZlg"
      },
      "source": [
        "#4 Initial test of the model accuracy\n"
      ]
    },
    {
      "cell_type": "markdown",
      "metadata": {
        "id": "8GchuzuyQhls"
      },
      "source": [
        "##4.1 Fit the training data into the model to find the optimal weight"
      ]
    },
    {
      "cell_type": "code",
      "execution_count": null,
      "metadata": {
        "id": "_GfUJYJzlU7H"
      },
      "outputs": [],
      "source": [
        "perceptron = Perceptron()\n",
        "\n",
        "epochs = 300\n",
        "learn_rate = 0.3\n",
        "loss_mt, wt_accuracy = perceptron.fit(X_train, y_train, epochs, learn_rate)"
      ]
    },
    {
      "cell_type": "code",
      "source": [
        "plt.plot(wt_accuracy)\n",
        "plt.xlabel(\"Epoch #\")\n",
        "plt.ylabel(\"Accuracy\")\n",
        "plt.ylim([0, 1])\n",
        "plt.show()"
      ],
      "metadata": {
        "colab": {
          "base_uri": "https://localhost:8080/",
          "height": 283
        },
        "id": "pwPzZ7T-swLA",
        "outputId": "acf34a39-a293-4237-9f9e-36529c028533"
      },
      "execution_count": null,
      "outputs": [
        {
          "output_type": "display_data",
          "data": {
            "text/plain": [
              "<Figure size 432x288 with 1 Axes>"
            ],
            "image/png": "[encoded data removed]"
          },
          "metadata": {
            "needs_background": "light"
          }
        }
      ]
    },
    {
      "cell_type": "code",
      "execution_count": null,
      "metadata": {
        "colab": {
          "base_uri": "https://localhost:8080/",
          "height": 279
        },
        "id": "h1Ei7yS-cQNl",
        "outputId": "800f3a4d-f044-477d-fd3f-9d5e7161c0e0"
      },
      "outputs": [
        {
          "output_type": "display_data",
          "data": {
            "text/plain": [
              "<Figure size 432x288 with 1 Axes>"
            ],
            "image/png": "[encoded data removed]"
          },
          "metadata": {
            "needs_background": "light"
          }
        }
      ],
      "source": [
        "plt.plot(loss_mt)\n",
        "plt.xlabel(\"Epoch #\")\n",
        "plt.ylabel(\"Loss\")\n",
        "# plt.ylim([0, 1])\n",
        "plt.show()"
      ]
    },
    {
      "cell_type": "markdown",
      "metadata": {
        "id": "JnTOfkv-SXLZ"
      },
      "source": [
        "##4.2 Test the accuracy with the current model\n"
      ]
    },
    {
      "cell_type": "code",
      "execution_count": null,
      "metadata": {
        "colab": {
          "base_uri": "https://localhost:8080/"
        },
        "id": "AGQcqHT_oGJJ",
        "outputId": "21ff548f-8577-4d95-e106-dd4595197332"
      },
      "outputs": [
        {
          "output_type": "stream",
          "name": "stdout",
          "text": [
            "Accuracy:0.7597402597402597\n"
          ]
        }
      ],
      "source": [
        "#making predictions on test data\n",
        "Y_pred_test = perceptron.predict(X_test)\n",
        "\n",
        "#checking the accuracy of the model\n",
        "print(f\"Accuracy:{accuracy_score(Y_pred_test, y_test)}\")"
      ]
    },
    {
      "cell_type": "markdown",
      "metadata": {
        "id": "fVbmQE33Vwt-"
      },
      "source": [
        "#5 Experiementation"
      ]
    },
    {
      "cell_type": "markdown",
      "source": [
        "# 5.1 Linear separable data set experiments"
      ],
      "metadata": {
        "id": "pES2tZD3QWxZ"
      }
    },
    {
      "cell_type": "code",
      "source": [
        "from sklearn import datasets\n",
        "\n",
        "X_sep, y_sep = datasets.make_blobs(n_samples=100, centers=2, n_features=2, center_box=(0, 10))\n",
        "y_sep[y_sep == 0] = -1\n",
        "plt.plot(X[:, 0][y == -1], X[:, 1][y == -1], 'g^')\n",
        "plt.plot(X[:, 0][y == 1], X[:, 1][y == 1], 'bs')\n",
        "plt.show()"
      ],
      "metadata": {
        "colab": {
          "base_uri": "https://localhost:8080/",
          "height": 265
        },
        "id": "XdClBTppQWDd",
        "outputId": "7e36df8c-f329-4152-cd4f-77a0a8b979c5"
      },
      "execution_count": null,
      "outputs": [
        {
          "output_type": "display_data",
          "data": {
            "text/plain": [
              "<Figure size 432x288 with 1 Axes>"
            ],
            "image/png": "[encoded data removed]"
          },
          "metadata": {
            "needs_background": "light"
          }
        }
      ]
    },
    {
      "cell_type": "code",
      "source": [
        "# Split the data into training and testing\n",
        "X_train_sep, X_test_sep, y_train_sep, y_test_sep = train_test_split(X_sep, y_sep, test_size=0.20, random_state=42)\n",
        "\n",
        "# Reshape the y for later operation\n",
        "y_train_sep = y_train_sep.reshape(1, y_train_sep.shape[0]).T\n",
        "y_test_sep = y_test_sep.reshape(1, y_test_sep.shape[0]).T"
      ],
      "metadata": {
        "id": "HLklGD3MRmfw"
      },
      "execution_count": null,
      "outputs": []
    },
    {
      "cell_type": "code",
      "source": [
        "perceptron = Perceptron()\n",
        "\n",
        "epochs = 300\n",
        "learn_rate = 0.3\n",
        "loss_mt_sep, wt_accuracy_sep = perceptron.fit(X_train_sep, y_train_sep, epochs, learn_rate)"
      ],
      "metadata": {
        "id": "UbilqYT8RxfK",
        "colab": {
          "base_uri": "https://localhost:8080/"
        },
        "outputId": "78c22853-7fea-4715-e933-8dbb74be09b0"
      },
      "execution_count": null,
      "outputs": [
        {
          "output_type": "stream",
          "name": "stderr",
          "text": [
            "/usr/local/lib/python3.7/dist-packages/ipykernel_launcher.py:33: VisibleDeprecationWarning: Creating an ndarray from ragged nested sequences (which is a list-or-tuple of lists-or-tuples-or ndarrays with different lengths or shapes) is deprecated. If you meant to do this, you must specify 'dtype=object' when creating the ndarray.\n"
          ]
        }
      ]
    },
    {
      "cell_type": "code",
      "source": [
        "plt.plot(wt_accuracy_sep)\n",
        "plt.xlabel(\"Epoch #\")\n",
        "plt.ylabel(\"Accuracy\")\n",
        "plt.ylim([0, 1])\n",
        "plt.show()"
      ],
      "metadata": {
        "colab": {
          "base_uri": "https://localhost:8080/",
          "height": 283
        },
        "id": "qmBXZbbZR4p3",
        "outputId": "7e5647b8-5adf-4f64-a93e-0e0d0ca3fde9"
      },
      "execution_count": null,
      "outputs": [
        {
          "output_type": "display_data",
          "data": {
            "text/plain": [
              "<Figure size 432x288 with 1 Axes>"
            ],
            "image/png": "[encoded data removed]"
          },
          "metadata": {
            "needs_background": "light"
          }
        }
      ]
    },
    {
      "cell_type": "code",
      "source": [
        "plt.plot(loss_mt_sep)\n",
        "plt.xlabel(\"Epoch #\")\n",
        "plt.ylabel(\"Loss\")\n",
        "# plt.ylim([0, 1])\n",
        "plt.show()"
      ],
      "metadata": {
        "colab": {
          "base_uri": "https://localhost:8080/",
          "height": 279
        },
        "id": "KXWgFxMrU8z2",
        "outputId": "489b1837-4b8d-441d-e741-15a6a48d5b5b"
      },
      "execution_count": null,
      "outputs": [
        {
          "output_type": "display_data",
          "data": {
            "text/plain": [
              "<Figure size 432x288 with 1 Axes>"
            ],
            "image/png": "[encoded data removed]"
          },
          "metadata": {
            "needs_background": "light"
          }
        }
      ]
    },
    {
      "cell_type": "code",
      "source": [
        "#making predictions on test data\n",
        "Y_pred_test_sep = perceptron.predict(X_test_sep)\n",
        "\n",
        "#checking the accuracy of the model\n",
        "print(f\"Accuracy:{accuracy_score(Y_pred_test_sep, y_test_sep)}\")"
      ],
      "metadata": {
        "colab": {
          "base_uri": "https://localhost:8080/"
        },
        "id": "AZE3AkljSOG2",
        "outputId": "da40f29e-6859-4815-a243-73eb18782bfa"
      },
      "execution_count": null,
      "outputs": [
        {
          "output_type": "stream",
          "name": "stdout",
          "text": [
            "Accuracy:1.0\n"
          ]
        }
      ]
    },
    {
      "cell_type": "markdown",
      "source": [
        "## 5.2 Epoch change experiments"
      ],
      "metadata": {
        "id": "6s11NN1kSCVr"
      }
    },
    {
      "cell_type": "code",
      "source": [
        "def loss_calc(prediction, expected):\n",
        "  sum = 0\n",
        "  for p,e in zip(prediction,expected):\n",
        "    sum += max(0, -e*p)\n",
        "  return sum"
      ],
      "metadata": {
        "id": "1uvrhFobXR-9"
      },
      "execution_count": null,
      "outputs": []
    },
    {
      "cell_type": "code",
      "execution_count": 84,
      "metadata": {
        "colab": {
          "base_uri": "https://localhost:8080/"
        },
        "id": "C-O7y87VwKDc",
        "outputId": "e198aaa3-e362-42f7-ac3f-e58d1ac5f349"
      },
      "outputs": [
        {
          "output_type": "stream",
          "name": "stdout",
          "text": [
            "\n",
            "Accuracy for epochs = 10000 and learn rate 0.0:0.33766233766233766\n",
            "\n",
            "Accuracy for epochs = 10000 and learn rate 0.1:0.6428571428571429\n",
            "\n",
            "Accuracy for epochs = 10000 and learn rate 0.2:0.7142857142857143\n",
            "\n",
            "Accuracy for epochs = 10000 and learn rate 0.30000000000000004:0.7597402597402597\n",
            "\n",
            "Accuracy for epochs = 10000 and learn rate 0.4:0.7727272727272727\n",
            "\n",
            "Accuracy for epochs = 10000 and learn rate 0.5:0.7857142857142857\n",
            "\n",
            "Accuracy for epochs = 10000 and learn rate 0.6000000000000001:0.6688311688311688\n",
            "\n",
            "Accuracy for epochs = 10000 and learn rate 0.7000000000000001:0.7012987012987013\n",
            "\n",
            "Accuracy for epochs = 10000 and learn rate 0.8:0.6363636363636364\n",
            "\n",
            "Accuracy for epochs = 10000 and learn rate 0.9:0.6818181818181818\n",
            "\n",
            "Best accuracy when changing learn rate is at 0.5 and the accuracy is 0.7857142857142857\n"
          ]
        }
      ],
      "source": [
        "epochs = 300\n",
        "\n",
        "accuracy_records = []\n",
        "best_accuracy = 0\n",
        "best_lr = 0.5\n",
        "loss = []\n",
        "\n",
        "for learn_rate in np.arange(0, 1, 0.1):\n",
        "  lost_mt = perceptron.fit(X_train, y_train, epochs, learn_rate)\n",
        "  #making predictions on test data\n",
        "  Y_pred_test = perceptron.predict(X_test)\n",
        "\n",
        "  #checking the accuracy of the model\n",
        "  accuracy = accuracy_score(Y_pred_test, y_test)\n",
        "  accuracy_records.append(accuracy)\n",
        "  loss.append(loss_calc(Y_pred_test, y_test))\n",
        "  print(f\"\\nAccuracy for epochs = 10000 and learn rate {learn_rate}:{accuracy}\")\n",
        "\n",
        "  if best_accuracy < accuracy:\n",
        "    best_accuracy = accuracy\n",
        "    best_lr = learn_rate\n",
        "\n",
        "print(f\"\\nBest accuracy when changing learn rate is at {best_lr} and the accuracy is {best_accuracy}\")"
      ]
    },
    {
      "cell_type": "code",
      "source": [
        "plt.plot(np.arange(0, 1, 0.1), loss)\n",
        "plt.xlabel(\"Learning rate\")\n",
        "plt.ylabel(\"Final Loss\")\n",
        "plt.show()"
      ],
      "metadata": {
        "colab": {
          "base_uri": "https://localhost:8080/",
          "height": 279
        },
        "id": "eU_IPQqPXqwB",
        "outputId": "6a416a11-b26c-4ed9-eb1a-96e5c05d742c"
      },
      "execution_count": 86,
      "outputs": [
        {
          "output_type": "display_data",
          "data": {
            "text/plain": [
              "<Figure size 432x288 with 1 Axes>"
            ],
            "image/png": "[encoded data removed]"
          },
          "metadata": {
            "needs_background": "light"
          }
        }
      ]
    },
    {
      "cell_type": "markdown",
      "source": [
        "## 5.3 Test by changing the number of iteration (epochs)"
      ],
      "metadata": {
        "id": "cfC6y7GRRSQB"
      }
    },
    {
      "cell_type": "markdown",
      "source": [
        "Using the optimal learning rate from the previous test we change the number of iteration"
      ],
      "metadata": {
        "id": "gDEsY-MxXkxw"
      }
    },
    {
      "cell_type": "code",
      "execution_count": 77,
      "metadata": {
        "id": "kAzYb6L9hR_i",
        "colab": {
          "base_uri": "https://localhost:8080/"
        },
        "outputId": "dbaa2510-7d65-4e50-fce1-639f03e74668"
      },
      "outputs": [
        {
          "output_type": "stream",
          "name": "stdout",
          "text": [
            "\n",
            "Accuracy for epochs = 100 and learn rate 0.5:0.6883116883116883\n",
            "\n",
            "Accuracy for epochs = 200 and learn rate 0.5:0.6688311688311688\n",
            "\n",
            "Accuracy for epochs = 300 and learn rate 0.5:0.7857142857142857\n",
            "\n",
            "Accuracy for epochs = 400 and learn rate 0.5:0.6818181818181818\n",
            "\n",
            "Accuracy for epochs = 500 and learn rate 0.5:0.6298701298701299\n",
            "\n",
            "Accuracy for epochs = 600 and learn rate 0.5:0.6363636363636364\n",
            "\n",
            "Accuracy for epochs = 700 and learn rate 0.5:0.6623376623376623\n",
            "\n",
            "Accuracy for epochs = 800 and learn rate 0.5:0.7272727272727273\n",
            "\n",
            "Accuracy for epochs = 900 and learn rate 0.5:0.6363636363636364\n",
            "\n",
            "Best accuracy when changing iterations(epochs) is at 900 and the accuracy is 0.7857142857142857\n"
          ]
        }
      ],
      "source": [
        "learn_rate = 0.5\n",
        "\n",
        "accuracy_records = []\n",
        "best_accuracy = 0\n",
        "best_epochs = 10000\n",
        "loss = []\n",
        "\n",
        "for epochs in range(100, 1000, 100):\n",
        "  lost_mt = perceptron.fit(X_train, y_train, epochs, learn_rate)\n",
        "  #making predictions on test data\n",
        "  Y_pred_test = perceptron.predict(X_test)\n",
        "\n",
        "  #checking the accuracy of the model\n",
        "  accuracy = accuracy_score(Y_pred_test, y_test)\n",
        "  accuracy_records.append(accuracy)\n",
        "  loss.append(loss_calc(Y_pred_test, y_test))\n",
        "  print(f\"\\nAccuracy for epochs = {epochs} and learn rate {learn_rate}:{accuracy}\")\n",
        "\n",
        "  if best_accuracy < accuracy:\n",
        "    best_accuracy = accuracy\n",
        "    best_epochs = epochs\n",
        "\n",
        "print(f\"\\nBest accuracy when changing iterations(epochs) is at {epochs} and the accuracy is {best_accuracy}\")"
      ]
    },
    {
      "cell_type": "code",
      "source": [
        "plt.plot(range(100, 1000, 100), loss)\n",
        "plt.xlabel(\"Iteration ( Epochs)\")\n",
        "plt.ylabel(\"Final loss\")\n",
        "plt.show()"
      ],
      "metadata": {
        "colab": {
          "base_uri": "https://localhost:8080/",
          "height": 279
        },
        "id": "AH3m_y72YyUr",
        "outputId": "a1d0f256-f91b-4431-a43a-5bd94c4e6a85"
      },
      "execution_count": 78,
      "outputs": [
        {
          "output_type": "display_data",
          "data": {
            "text/plain": [
              "<Figure size 432x288 with 1 Axes>"
            ],
            "image/png": "[encoded data removed]"
          },
          "metadata": {
            "needs_background": "light"
          }
        }
      ]
    },
    {
      "cell_type": "markdown",
      "source": [
        "## 5.3 Test using the Scikit-Learn library "
      ],
      "metadata": {
        "id": "a1v_R1-4SeLJ"
      }
    },
    {
      "cell_type": "code",
      "source": [
        "from sklearn.linear_model import Perceptron"
      ],
      "metadata": {
        "id": "NrmUJKoEScT_"
      },
      "execution_count": null,
      "outputs": []
    },
    {
      "cell_type": "markdown",
      "source": [
        "Using the results from the 2 previous test we use the optimal iteration and learning rate."
      ],
      "metadata": {
        "id": "q9Fdat8pfv1z"
      }
    },
    {
      "cell_type": "code",
      "execution_count": null,
      "metadata": {
        "colab": {
          "base_uri": "https://localhost:8080/"
        },
        "id": "s33u28HFwxOe",
        "outputId": "beaaddaf-9fc9-4a36-80b7-5e5f0a016768"
      },
      "outputs": [
        {
          "output_type": "stream",
          "name": "stdout",
          "text": [
            "\n",
            "Accuracy for epochs = 900 and learn rate 0.5:0.7012987012987013\n"
          ]
        },
        {
          "output_type": "stream",
          "name": "stderr",
          "text": [
            "/usr/local/lib/python3.7/dist-packages/sklearn/utils/validation.py:993: DataConversionWarning: A column-vector y was passed when a 1d array was expected. Please change the shape of y to (n_samples, ), for example using ravel().\n",
            "  y = column_or_1d(y, warn=True)\n"
          ]
        }
      ],
      "source": [
        "model = Perceptron(eta0=0.5, max_iter = 900)\n",
        "# fit model\n",
        "model.fit(X_train, y_train)\n",
        "\n",
        "# y_pred = []\n",
        "# for x in X_test:\n",
        "y_pred = model.predict(X_test)\n",
        "\n",
        "print(f\"\\nAccuracy for epochs = {900} and learn rate {0.5}:{accuracy_score(y_pred, y_test)}\")\n"
      ]
    },
    {
      "cell_type": "code",
      "source": [
        "model = Perceptron(eta0=0.5, max_iter = 900)\n",
        "# fit model\n",
        "model.fit(X_train_sep, y_train_sep)\n",
        "\n",
        "# y_pred = []\n",
        "# for x in X_test:\n",
        "y_pred = model.predict(X_test_sep)\n",
        "\n",
        "print(f\"\\nAccuracy for epochs = {900} and learn rate {0.5}:{accuracy_score(y_pred, y_test_sep)}\")"
      ],
      "metadata": {
        "colab": {
          "base_uri": "https://localhost:8080/"
        },
        "id": "zDSa45rYaQ1w",
        "outputId": "a9cd1e66-2e93-4085-fc55-411513cf1265"
      },
      "execution_count": null,
      "outputs": [
        {
          "output_type": "stream",
          "name": "stdout",
          "text": [
            "\n",
            "Accuracy for epochs = 900 and learn rate 0.5:1.0\n"
          ]
        },
        {
          "output_type": "stream",
          "name": "stderr",
          "text": [
            "/usr/local/lib/python3.7/dist-packages/sklearn/utils/validation.py:993: DataConversionWarning: A column-vector y was passed when a 1d array was expected. Please change the shape of y to (n_samples, ), for example using ravel().\n",
            "  y = column_or_1d(y, warn=True)\n"
          ]
        }
      ]
    }
  ],
  "metadata": {
    "colab": {
      "collapsed_sections": [],
      "provenance": []
    },
    "kernelspec": {
      "display_name": "Python 3",
      "name": "python3"
    },
    "language_info": {
      "name": "python"
    }
  },
  "nbformat": 4,
  "nbformat_minor": 0
}