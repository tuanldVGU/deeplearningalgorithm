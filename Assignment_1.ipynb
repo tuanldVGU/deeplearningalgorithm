{
  "cells": [
    {
      "cell_type": "code",
      "execution_count": 1,
      "metadata": {
        "colab": {
          "base_uri": "https://localhost:8080/"
        },
        "id": "XAmByMxbgnv0",
        "outputId": "f888f85c-0051-411c-9a46-334522ef51e8"
      },
      "outputs": [
        {
          "output_type": "stream",
          "name": "stdout",
          "text": [
            "Looking in indexes: https://pypi.org/simple, https://us-python.pkg.dev/colab-wheels/public/simple/\n",
            "Collecting libsvmdata\n",
            "  Downloading libsvmdata-0.4.1-py3-none-any.whl (7.0 kB)\n",
            "Requirement already satisfied: numpy>=1.12 in /usr/local/lib/python3.7/dist-packages (from libsvmdata) (1.21.6)\n",
            "Requirement already satisfied: scikit-learn in /usr/local/lib/python3.7/dist-packages (from libsvmdata) (1.0.2)\n",
            "Collecting download\n",
            "  Downloading download-0.3.5-py3-none-any.whl (8.8 kB)\n",
            "Requirement already satisfied: scipy in /usr/local/lib/python3.7/dist-packages (from libsvmdata) (1.7.3)\n",
            "Requirement already satisfied: tqdm in /usr/local/lib/python3.7/dist-packages (from download->libsvmdata) (4.64.1)\n",
            "Requirement already satisfied: requests in /usr/local/lib/python3.7/dist-packages (from download->libsvmdata) (2.23.0)\n",
            "Requirement already satisfied: six in /usr/local/lib/python3.7/dist-packages (from download->libsvmdata) (1.15.0)\n",
            "Requirement already satisfied: idna<3,>=2.5 in /usr/local/lib/python3.7/dist-packages (from requests->download->libsvmdata) (2.10)\n",
            "Requirement already satisfied: certifi>=2017.4.17 in /usr/local/lib/python3.7/dist-packages (from requests->download->libsvmdata) (2022.6.15)\n",
            "Requirement already satisfied: chardet<4,>=3.0.2 in /usr/local/lib/python3.7/dist-packages (from requests->download->libsvmdata) (3.0.4)\n",
            "Requirement already satisfied: urllib3!=1.25.0,!=1.25.1,<1.26,>=1.21.1 in /usr/local/lib/python3.7/dist-packages (from requests->download->libsvmdata) (1.24.3)\n",
            "Requirement already satisfied: threadpoolctl>=2.0.0 in /usr/local/lib/python3.7/dist-packages (from scikit-learn->libsvmdata) (3.1.0)\n",
            "Requirement already satisfied: joblib>=0.11 in /usr/local/lib/python3.7/dist-packages (from scikit-learn->libsvmdata) (1.1.0)\n",
            "Installing collected packages: download, libsvmdata\n",
            "Successfully installed download-0.3.5 libsvmdata-0.4.1\n"
          ]
        }
      ],
      "source": [
        "!pip install libsvmdata"
      ]
    },
    {
      "cell_type": "code",
      "execution_count": 2,
      "metadata": {
        "id": "aWCcNZRG7Fmx"
      },
      "outputs": [],
      "source": [
        "import numpy as np\n",
        "import pandas as pd\n",
        "from libsvmdata import fetch_libsvm\n",
        "from random import randrange\n",
        "import matplotlib.pyplot as plt\n",
        "\n",
        "from sklearn.model_selection import train_test_split\n",
        "from sklearn.metrics import accuracy_score\n"
      ]
    },
    {
      "cell_type": "markdown",
      "metadata": {
        "id": "-EJQAiVcQG7M"
      },
      "source": [
        "#1 Import the data\n"
      ]
    },
    {
      "cell_type": "code",
      "execution_count": 3,
      "metadata": {
        "colab": {
          "base_uri": "https://localhost:8080/"
        },
        "id": "K4PXFg8JGnso",
        "outputId": "6783d3e2-b830-4528-8de2-e73f9313f0d4"
      },
      "outputs": [
        {
          "output_type": "stream",
          "name": "stdout",
          "text": [
            "file_sizes: 100%|███████████████████████████| 68.6k/68.6k [00:00<00:00, 178kB/s]\n"
          ]
        },
        {
          "output_type": "execute_result",
          "data": {
            "text/plain": [
              "array([[-0.294118  ,  0.487437  ,  0.180328  , -0.292929  , -1.        ,\n",
              "         0.00149028, -0.53117   , -0.0333333 ],\n",
              "       [-0.882353  , -0.145729  ,  0.0819672 , -0.414141  , -1.        ,\n",
              "        -0.207153  , -0.766866  , -0.666667  ],\n",
              "       [-0.0588235 ,  0.839196  ,  0.0491803 , -1.        , -1.        ,\n",
              "        -0.305514  , -0.492741  , -0.633333  ],\n",
              "       [-0.882353  , -0.105528  ,  0.0819672 , -0.535354  , -0.777778  ,\n",
              "        -0.162444  , -0.923997  , -1.        ],\n",
              "       [-1.        ,  0.376884  , -0.344262  , -0.292929  , -0.602837  ,\n",
              "         0.28465   ,  0.887276  , -0.6       ],\n",
              "       [-0.411765  ,  0.165829  ,  0.213115  , -1.        , -1.        ,\n",
              "        -0.23696   , -0.894962  , -0.7       ],\n",
              "       [-0.647059  , -0.21608   , -0.180328  , -0.353535  , -0.791962  ,\n",
              "        -0.0760059 , -0.854825  , -0.833333  ],\n",
              "       [ 0.176471  ,  0.155779  , -1.        , -1.        , -1.        ,\n",
              "         0.052161  , -0.952178  , -0.733333  ],\n",
              "       [-0.764706  ,  0.979899  ,  0.147541  , -0.0909091 ,  0.283688  ,\n",
              "        -0.0909091 , -0.931682  ,  0.0666667 ],\n",
              "       [-0.0588235 ,  0.256281  ,  0.57377   , -1.        , -1.        ,\n",
              "        -1.        , -0.868488  ,  0.1       ]])"
            ]
          },
          "metadata": {},
          "execution_count": 3
        }
      ],
      "source": [
        "# Get data from the library\n",
        "X,y = fetch_libsvm(\"diabetes_scale\")\n",
        "\n",
        "# Check the first 10 rows\n",
        "X[:10]"
      ]
    },
    {
      "cell_type": "markdown",
      "metadata": {
        "id": "Ldpagv3DQSKF"
      },
      "source": [
        "#2 Split the data into training and testing\n"
      ]
    },
    {
      "cell_type": "code",
      "execution_count": 4,
      "metadata": {
        "id": "2bH3uZacpUYu"
      },
      "outputs": [],
      "source": [
        "# Split the data into training and testing\n",
        "X_train, X_test, y_train, y_test = train_test_split(X, y, test_size=0.20, random_state=42)\n",
        "\n",
        "# Reshape the y for later operation\n",
        "y_train = y_train.reshape(1, y_train.shape[0]).T\n",
        "y_test = y_test.reshape(1, y_test.shape[0]).T"
      ]
    },
    {
      "cell_type": "code",
      "execution_count": 5,
      "metadata": {
        "colab": {
          "base_uri": "https://localhost:8080/"
        },
        "id": "qx43bHj5eXad",
        "outputId": "2b965ea9-6480-4b2a-e007-b0997e7cb197"
      },
      "outputs": [
        {
          "output_type": "stream",
          "name": "stdout",
          "text": [
            "(614, 8) (614, 1)\n"
          ]
        }
      ],
      "source": [
        "print(np.shape(X_train), np.shape(y_train))"
      ]
    },
    {
      "cell_type": "markdown",
      "metadata": {
        "id": "uuXKD0_vQaXV"
      },
      "source": [
        "#3 Define the perceptron model"
      ]
    },
    {
      "cell_type": "code",
      "execution_count": 6,
      "metadata": {
        "id": "mjgkq0N7qoSs"
      },
      "outputs": [],
      "source": [
        "class Perceptron:\n",
        "  #constructor\n",
        "  def __init__ (self, w = None):\n",
        "    self.w = w\n",
        "\n",
        "  def predict(self, X):\n",
        "    output = []\n",
        "    for x in X:\n",
        "      prediction = np.sign(np.dot(self.w, x))\n",
        "      output.append(prediction)\n",
        "    return output\n",
        "\n",
        "  def fit(self, X, Y, epochs = 1000, lr = 1):\n",
        "    self.w = np.ones(X.shape[1])\n",
        "    accuracy = []\n",
        "    weight_matrix = []\n",
        "\n",
        "    for i in range(epochs):\n",
        "      sum_w = 0\n",
        "      for x,y in zip(X, Y):\n",
        "        error = 1 if y*np.dot(self.w,x) < 0 else 0\n",
        "        sum_w += error*y*x\n",
        "      self.w = self.w + lr*sum_w\n",
        "      weight_matrix.append(self.w)\n",
        "      accuracy.append(accuracy_score(self.predict(X), Y))\n",
        "\n",
        "    return np.array(weight_matrix), accuracy "
      ]
    },
    {
      "cell_type": "markdown",
      "metadata": {
        "id": "9ngbrBjTTZlg"
      },
      "source": [
        "#4 Initial test of the model accuracy\n"
      ]
    },
    {
      "cell_type": "markdown",
      "metadata": {
        "id": "8GchuzuyQhls"
      },
      "source": [
        "##4.1 Fit the training data into the model to find the optimal weight"
      ]
    },
    {
      "cell_type": "code",
      "execution_count": 7,
      "metadata": {
        "colab": {
          "base_uri": "https://localhost:8080/",
          "height": 283
        },
        "id": "_GfUJYJzlU7H",
        "outputId": "95523db5-aeec-447b-b670-1384cfaf7b34"
      },
      "outputs": [
        {
          "output_type": "display_data",
          "data": {
            "text/plain": [
              "<Figure size 432x288 with 1 Axes>"
            ],
            "image/png": "[encoded data removed]"
          },
          "metadata": {
            "needs_background": "light"
          }
        }
      ],
      "source": [
        "perceptron = Perceptron()\n",
        "\n",
        "epochs = 10000\n",
        "learn_rate = 0.3\n",
        "wt_matrix_1, wt_accuracy = perceptron.fit(X_train, y_train, epochs, learn_rate)\n",
        "\n",
        "plt.plot(wt_accuracy)\n",
        "plt.xlabel(\"Epoch #\")\n",
        "plt.ylabel(\"Accuracy\")\n",
        "plt.ylim([0, 1])\n",
        "plt.show()"
      ]
    },
    {
      "cell_type": "code",
      "execution_count": null,
      "metadata": {
        "colab": {
          "base_uri": "https://localhost:8080/"
        },
        "id": "h1Ei7yS-cQNl",
        "outputId": "1e09a3f6-f50a-416d-fa01-b0f494c20d20"
      },
      "outputs": [
        {
          "data": {
            "text/plain": [
              "array([[ -73.24118975,   11.71406888,   14.39180437, ...,  -11.38852058,\n",
              "         -82.95696029,  -80.35000562],\n",
              "       [ -44.7235355 ,  -14.57135449,    3.43934323, ...,  -14.56825431,\n",
              "         -44.02075193,  -51.44000471],\n",
              "       [ -16.20588125,  -40.85677787,   -7.51311791, ...,  -17.74798804,\n",
              "          -5.08454357,  -22.5300038 ],\n",
              "       ...,\n",
              "       [ -12.1777166 , -105.9230981 ,   22.16403652, ...,  -94.35078295,\n",
              "         -13.43647778,  -24.38676452],\n",
              "       [ -39.67184015,  -90.3713407 ,   30.99190699, ...,  -93.13200251,\n",
              "         -48.92460707,  -53.14676693],\n",
              "       [ -13.0424219 , -107.78189108,   22.43944669, ...,  -95.05048464,\n",
              "         -14.10308759,  -26.03676641]])"
            ]
          },
          "execution_count": 8,
          "metadata": {},
          "output_type": "execute_result"
        }
      ],
      "source": [
        "wt_matrix_1"
      ]
    },
    {
      "cell_type": "markdown",
      "metadata": {
        "id": "JnTOfkv-SXLZ"
      },
      "source": [
        "##4.2 Test the accuracy with the current model\n"
      ]
    },
    {
      "cell_type": "code",
      "execution_count": 8,
      "metadata": {
        "colab": {
          "base_uri": "https://localhost:8080/"
        },
        "id": "AGQcqHT_oGJJ",
        "outputId": "16818f37-5fae-4f28-d183-72a1e06ca35b"
      },
      "outputs": [
        {
          "output_type": "stream",
          "name": "stdout",
          "text": [
            "Accuracy:0.6428571428571429\n"
          ]
        }
      ],
      "source": [
        "#making predictions on test data\n",
        "Y_pred_test = perceptron.predict(X_test)\n",
        "\n",
        "#checking the accuracy of the model\n",
        "print(f\"Accuracy:{accuracy_score(Y_pred_test, y_test)}\")"
      ]
    },
    {
      "cell_type": "code",
      "execution_count": 9,
      "metadata": {
        "colab": {
          "base_uri": "https://localhost:8080/",
          "height": 265
        },
        "id": "-qfyMYgHtMR3",
        "outputId": "8627bafb-3cdf-456f-b583-4fac8fca4203"
      },
      "outputs": [
        {
          "output_type": "display_data",
          "data": {
            "text/plain": [
              "<Figure size 432x288 with 1 Axes>"
            ],
            "image/png": "[encoded data removed]"
          },
          "metadata": {
            "needs_background": "light"
          }
        }
      ],
      "source": [
        "# plot the weight transformation\n",
        "plt.plot(wt_matrix_1[-1,:])\n",
        "\n",
        "plt.show()"
      ]
    },
    {
      "cell_type": "markdown",
      "metadata": {
        "id": "fVbmQE33Vwt-"
      },
      "source": [
        "#5 Experiementation"
      ]
    },
    {
      "cell_type": "markdown",
      "metadata": {
        "id": "JoxZmx2rW--q"
      },
      "source": [
        "##5.1 Testing by changing the learn_rate"
      ]
    },
    {
      "cell_type": "code",
      "source": [
        "def loss_calc(prediction, expected):\n",
        "  sum = 0\n",
        "  for p,e in zip(prediction,expected):\n",
        "    sum += max(0, -e*p)\n",
        "  return sum"
      ],
      "metadata": {
        "id": "1uvrhFobXR-9"
      },
      "execution_count": 13,
      "outputs": []
    },
    {
      "cell_type": "code",
      "execution_count": 28,
      "metadata": {
        "colab": {
          "base_uri": "https://localhost:8080/"
        },
        "id": "C-O7y87VwKDc",
        "outputId": "384d553a-23e0-4b15-bc13-ba7828d667c6"
      },
      "outputs": [
        {
          "output_type": "stream",
          "name": "stdout",
          "text": [
            "\n",
            "Accuracy for epochs = 10000 and learn rate 0.0:0.33766233766233766\n",
            "\n",
            "Accuracy for epochs = 10000 and learn rate 0.1:0.7532467532467533\n",
            "\n",
            "Accuracy for epochs = 10000 and learn rate 0.2:0.6038961038961039\n",
            "\n",
            "Accuracy for epochs = 10000 and learn rate 0.30000000000000004:0.6428571428571429\n",
            "\n",
            "Accuracy for epochs = 10000 and learn rate 0.4:0.6168831168831169\n",
            "\n",
            "Accuracy for epochs = 10000 and learn rate 0.5:0.6688311688311688\n",
            "\n",
            "Accuracy for epochs = 10000 and learn rate 0.6000000000000001:0.6688311688311688\n",
            "\n",
            "Accuracy for epochs = 10000 and learn rate 0.7000000000000001:0.6818181818181818\n",
            "\n",
            "Accuracy for epochs = 10000 and learn rate 0.8:0.6753246753246753\n",
            "\n",
            "Accuracy for epochs = 10000 and learn rate 0.9:0.7792207792207793\n",
            "\n",
            "Best accuracy when changing learn rate is at 0.9 and the accuracy is 0.7792207792207793\n"
          ]
        }
      ],
      "source": [
        "epochs = 10000\n",
        "\n",
        "accuracy_records = []\n",
        "best_accuracy = 0\n",
        "best_lr = 0.5\n",
        "loss = []\n",
        "\n",
        "for learn_rate in np.arange(0, 1, 0.1):\n",
        "  wt_matrix_2 = perceptron.fit(X_train, y_train, epochs, learn_rate)\n",
        "  #making predictions on test data\n",
        "  Y_pred_test = perceptron.predict(X_test)\n",
        "\n",
        "  #checking the accuracy of the model\n",
        "  accuracy = accuracy_score(Y_pred_test, y_test)\n",
        "  accuracy_records.append(accuracy)\n",
        "  loss.append(loss_calc(Y_pred_test, y_test))\n",
        "  print(f\"\\nAccuracy for epochs = 10000 and learn rate {learn_rate}:{accuracy}\")\n",
        "\n",
        "  if best_accuracy < accuracy:\n",
        "    best_accuracy = accuracy\n",
        "    best_lr = learn_rate\n",
        "\n",
        "print(f\"\\nBest accuracy when changing learn rate is at {best_lr} and the accuracy is {best_accuracy}\")"
      ]
    },
    {
      "cell_type": "code",
      "source": [
        "plt.plot(np.arange(0, 1, 0.1), loss)\n",
        "plt.xlabel(\"Learning rate\")\n",
        "plt.ylabel(\"Loss\")\n",
        "plt.show()"
      ],
      "metadata": {
        "colab": {
          "base_uri": "https://localhost:8080/",
          "height": 279
        },
        "id": "eU_IPQqPXqwB",
        "outputId": "5010e8c6-1105-4d5d-9b2a-9a46a9f1f2a6"
      },
      "execution_count": 29,
      "outputs": [
        {
          "output_type": "display_data",
          "data": {
            "text/plain": [
              "<Figure size 432x288 with 1 Axes>"
            ],
            "image/png": "[encoded data removed]"
          },
          "metadata": {
            "needs_background": "light"
          }
        }
      ]
    },
    {
      "cell_type": "markdown",
      "source": [
        "## 5.2 Test by changing the number of iteration (epochs)"
      ],
      "metadata": {
        "id": "cfC6y7GRRSQB"
      }
    },
    {
      "cell_type": "markdown",
      "source": [
        "Using the optimal learning rate from the previous test we change the number of iteration"
      ],
      "metadata": {
        "id": "gDEsY-MxXkxw"
      }
    },
    {
      "cell_type": "code",
      "execution_count": 30,
      "metadata": {
        "id": "kAzYb6L9hR_i",
        "colab": {
          "base_uri": "https://localhost:8080/"
        },
        "outputId": "77af93e9-6e69-4ef5-a32e-ce83816494e0"
      },
      "outputs": [
        {
          "output_type": "stream",
          "name": "stdout",
          "text": [
            "\n",
            "Accuracy for epochs = 10000 and learn rate 0.9:0.7792207792207793\n",
            "\n",
            "Accuracy for epochs = 11000 and learn rate 0.9:0.7922077922077922\n",
            "\n",
            "Accuracy for epochs = 12000 and learn rate 0.9:0.6428571428571429\n",
            "\n",
            "Accuracy for epochs = 13000 and learn rate 0.9:0.6688311688311688\n",
            "\n",
            "Accuracy for epochs = 14000 and learn rate 0.9:0.6688311688311688\n",
            "\n",
            "Best accuracy when changing iterations(epochs) is at 14000 and the accuracy is 0.7922077922077922\n"
          ]
        }
      ],
      "source": [
        "learn_rate = 0.9 \n",
        "\n",
        "accuracy_records = []\n",
        "best_accuracy = 0\n",
        "best_epochs = 10000\n",
        "loss = []\n",
        "\n",
        "for epochs in range(10000, 15000, 1000):\n",
        "  wt_matrix_2 = perceptron.fit(X_train, y_train, epochs, learn_rate)\n",
        "  #making predictions on test data\n",
        "  Y_pred_test = perceptron.predict(X_test)\n",
        "\n",
        "  #checking the accuracy of the model\n",
        "  accuracy = accuracy_score(Y_pred_test, y_test)\n",
        "  accuracy_records.append(accuracy)\n",
        "  loss.append(loss_calc(Y_pred_test, y_test))\n",
        "  print(f\"\\nAccuracy for epochs = {epochs} and learn rate {learn_rate}:{accuracy}\")\n",
        "\n",
        "  if best_accuracy < accuracy:\n",
        "    best_accuracy = accuracy\n",
        "    best_epochs = epochs\n",
        "\n",
        "print(f\"\\nBest accuracy when changing iterations(epochs) is at {epochs} and the accuracy is {best_accuracy}\")"
      ]
    },
    {
      "cell_type": "code",
      "source": [
        "plt.plot(range(10000, 15000, 1000), loss)\n",
        "plt.xlabel(\"Iteration ( Epochs)\")\n",
        "plt.ylabel(\"Loss\")\n",
        "plt.show()"
      ],
      "metadata": {
        "colab": {
          "base_uri": "https://localhost:8080/",
          "height": 279
        },
        "id": "AH3m_y72YyUr",
        "outputId": "9e1c1ba8-92a1-48b7-e01e-17120f8c06d4"
      },
      "execution_count": 32,
      "outputs": [
        {
          "output_type": "display_data",
          "data": {
            "text/plain": [
              "<Figure size 432x288 with 1 Axes>"
            ],
            "image/png": "[encoded data removed]"
          },
          "metadata": {
            "needs_background": "light"
          }
        }
      ]
    },
    {
      "cell_type": "markdown",
      "source": [
        "## 5.3 Test using the Scikit-Learn library "
      ],
      "metadata": {
        "id": "a1v_R1-4SeLJ"
      }
    },
    {
      "cell_type": "code",
      "source": [
        "from sklearn.linear_model import Perceptron"
      ],
      "metadata": {
        "id": "NrmUJKoEScT_"
      },
      "execution_count": 21,
      "outputs": []
    },
    {
      "cell_type": "markdown",
      "source": [
        "Using the results from the 2 previous test we use the optimal iteration and learning rate."
      ],
      "metadata": {
        "id": "q9Fdat8pfv1z"
      }
    },
    {
      "cell_type": "code",
      "execution_count": 34,
      "metadata": {
        "colab": {
          "base_uri": "https://localhost:8080/"
        },
        "id": "s33u28HFwxOe",
        "outputId": "52d6df52-1d70-400e-deba-5e21a9a6fd1e"
      },
      "outputs": [
        {
          "output_type": "stream",
          "name": "stdout",
          "text": [
            "\n",
            "Accuracy for epochs = 10000 and learn rate 0.9:0.6883116883116883\n"
          ]
        }
      ],
      "source": [
        "model = Perceptron(eta0=0.9 , max_iter = 10000)\n",
        "# fit model\n",
        "model.fit(X, y)\n",
        "\n",
        "# y_pred = []\n",
        "# for x in X_test:\n",
        "y_pred = model.predict(X_test)\n",
        "\n",
        "print(f\"\\nAccuracy for epochs = {10000} and learn rate {0.9 }:{accuracy_score(y_pred, y_test)}\")\n"
      ]
    },
    {
      "cell_type": "code",
      "source": [
        "from sklearn.model_selection import GridSearchCV\n",
        "from sklearn.model_selection import RepeatedStratifiedKFold\n",
        "\n",
        "cv = RepeatedStratifiedKFold(n_splits=10, n_repeats=3, random_state=1)\n",
        "# define grid\n",
        "grid = dict()\n",
        "grid['eta0'] = [0.0001, 0.001, 0.01, 0.1, 1.0]\n",
        "# define search\n",
        "search = GridSearchCV(model, grid, scoring='accuracy', cv=cv, n_jobs=-1)\n",
        "# perform the search\n",
        "results = search.fit(X, y)\n",
        "# summarize\n",
        "print('Mean Accuracy: %.3f' % results.best_score_)\n",
        "print('Config: %s' % results.best_params_)"
      ],
      "metadata": {
        "colab": {
          "base_uri": "https://localhost:8080/"
        },
        "id": "FM31YrMeg_Vc",
        "outputId": "8ebad7b3-bfba-4a72-f9c7-58d138df3b0d"
      },
      "execution_count": 37,
      "outputs": [
        {
          "output_type": "stream",
          "name": "stdout",
          "text": [
            "Mean Accuracy: 0.665\n",
            "Config: {'eta0': 1.0}\n"
          ]
        }
      ]
    }
  ],
  "metadata": {
    "colab": {
      "collapsed_sections": [],
      "provenance": []
    },
    "kernelspec": {
      "display_name": "Python 3",
      "name": "python3"
    },
    "language_info": {
      "name": "python"
    }
  },
  "nbformat": 4,
  "nbformat_minor": 0
}